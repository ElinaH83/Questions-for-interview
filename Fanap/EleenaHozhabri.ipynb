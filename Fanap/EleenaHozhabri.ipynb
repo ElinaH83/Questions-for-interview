{
 "cells": [
  {
   "cell_type": "markdown",
   "id": "c4d34707",
   "metadata": {},
   "source": [
    "Name: `Elina Hozhabri`"
   ]
  },
  {
   "cell_type": "markdown",
   "id": "e949f35c",
   "metadata": {},
   "source": [
    "<div dir='rtl'>\n",
    "سوال اول: معکوس کردن رشته\n",
    "</div>"
   ]
  },
  {
   "cell_type": "code",
   "execution_count": 32,
   "id": "3cc3aa5b",
   "metadata": {},
   "outputs": [
    {
     "name": "stdout",
     "output_type": "stream",
     "text": [
      "Your string is hello\n",
      "Its reverse is : olleh\n"
     ]
    }
   ],
   "source": [
    "def reverse_string():\n",
    "    str = input(\"Enter your string:\")\n",
    "    print(f\"Your string is {str}\")\n",
    "    print(f\"Its reverse is : {str[::-1]}\")\n",
    "\n",
    "if __name__ == \"__main__\":\n",
    "    reverse_string()"
   ]
  },
  {
   "cell_type": "markdown",
   "id": "8d1ade5a",
   "metadata": {},
   "source": [
    "<div dir='rtl'>\n",
    "سوال دوم: عدد پرتکرار\n",
    "</div>"
   ]
  },
  {
   "cell_type": "code",
   "execution_count": 33,
   "id": "7394ebb3",
   "metadata": {},
   "outputs": [
    {
     "name": "stdout",
     "output_type": "stream",
     "text": [
      "Your array is [1, 2, 2, 3, 3, 3, 4]\n",
      "Most frequet number is : 3\n"
     ]
    }
   ],
   "source": [
    "from statistics import mode\n",
    "\n",
    "def mostNumber():\n",
    "    nums = input(\"Enter your array (split by space): \")\n",
    "    arr = list(map(int, nums.split()))\n",
    "    print(f\"Your array is {arr}\")\n",
    "    print(f\"Most frequet number is : {mode(arr)}\")\n",
    "\n",
    "if __name__ == \"__main__\":\n",
    "    mostNumber()\n",
    "    "
   ]
  },
  {
   "cell_type": "markdown",
   "id": "b072035d",
   "metadata": {},
   "source": [
    "<div dir='rtl'>\n",
    "سوال سوم: بررسی عدد اول\n",
    "</div>"
   ]
  },
  {
   "cell_type": "code",
   "execution_count": 34,
   "id": "dd89bb84",
   "metadata": {},
   "outputs": [
    {
     "name": "stdout",
     "output_type": "stream",
     "text": [
      "Your number is 7\n",
      "7 is prime\n"
     ]
    }
   ],
   "source": [
    "from math import sqrt\n",
    "\n",
    "def checkPrime(num):\n",
    "    if num <= 1:\n",
    "        return False\n",
    "    elif num == 2:\n",
    "        return True\n",
    "    for i in range(3, int(sqrt(num)) + 1):\n",
    "        if num % i == 0:\n",
    "            print(f'{i} ')\n",
    "            return False\n",
    "    return True\n",
    "\n",
    "def isPrime():\n",
    "    num = int(input(\"Enter your number: \"))\n",
    "    print(f\"Your number is {num}\")\n",
    "    prime = checkPrime(num)\n",
    "    if prime == True:\n",
    "        print(f'{num} is prime')\n",
    "    else:\n",
    "        print(f'{num} is NOT prime')\n",
    "\n",
    "if __name__ == \"__main__\":\n",
    "    isPrime()"
   ]
  },
  {
   "cell_type": "markdown",
   "id": "08c8d3a8",
   "metadata": {},
   "source": [
    "<div dir='rtl'>\n",
    "سوال چهارم: جمع قطر اصلی ماتریس\n",
    "</div>"
   ]
  },
  {
   "cell_type": "code",
   "execution_count": 36,
   "id": "9e2ad369",
   "metadata": {},
   "outputs": [
    {
     "name": "stdout",
     "output_type": "stream",
     "text": [
      "Enter your matrix of size 9:\n",
      "Your matrix is:\n",
      " [[1 2 3]\n",
      " [4 5 6]\n",
      " [7 8 9]]\n",
      "Sum of the main diameters of the matrix is: 15\n"
     ]
    }
   ],
   "source": [
    "import numpy as np\n",
    "\n",
    "def sumOfTrace():\n",
    "    size = int(input(\"Enter size of matrix: \"))\n",
    "    matrix = []\n",
    "    print(f'Enter your matrix of size {size*size}:')\n",
    "    while len(matrix)<size*size:\n",
    "        matrix_str = input()\n",
    "        if not matrix_str.strip():\n",
    "            continue\n",
    "        matrix.extend(list(map(int, matrix_str.split(' '))))\n",
    "    matrix = np.array(matrix).reshape(size,size)\n",
    "    print(f'Your matrix is:\\n {matrix}')\n",
    "    sum = np.trace(matrix)\n",
    "    print(f'Sum of the main diameters of the matrix is: {sum}')\n",
    "\n",
    "if __name__ == \"__main__\":\n",
    "    sumOfTrace()\n"
   ]
  },
  {
   "cell_type": "markdown",
   "id": "fb3f56a9",
   "metadata": {},
   "source": [
    "<div dir='rtl'>\n",
    "سوال پنجم: مرتب‌سازی کلمات در یک جمله\n",
    "</div>"
   ]
  },
  {
   "cell_type": "code",
   "execution_count": 37,
   "id": "4fe08ace",
   "metadata": {},
   "outputs": [
    {
     "name": "stdout",
     "output_type": "stream",
     "text": [
      "your string is: machine learning is fun\n",
      "Sorted: fun is learning machine\n"
     ]
    }
   ],
   "source": [
    "def sortWords():\n",
    "    str = input(\"Enter your string:\")\n",
    "    words = sorted(str.split(' '))\n",
    "    sorted_str = ' '.join(words)\n",
    "    print(f'your string is: {str}')\n",
    "    print(f'Sorted: {sorted_str}')\n",
    "\n",
    "if __name__ == \"__main__\":\n",
    "    sortWords()"
   ]
  },
  {
   "cell_type": "markdown",
   "id": "eaa73f57",
   "metadata": {},
   "source": [
    "<div dir='rtl'>\n",
    "سوال اختیاری اول: </div>"
   ]
  },
  {
   "cell_type": "code",
   "execution_count": 1,
   "id": "7907957d",
   "metadata": {},
   "outputs": [
    {
     "name": "stdout",
     "output_type": "stream",
     "text": [
      "File created sucessfully.\n",
      "Total sales: 11260000 ريال\n",
      "Average sales: 1251111.11 ريال\n",
      "Max sale in one day: 4700000 ريال in date 1404/6/10\n"
     ]
    }
   ],
   "source": [
    "import pandas as pd\n",
    "\n",
    "def createCSV():\n",
    "    data = {\n",
    "        \"Product\": [\n",
    "            \"shampo\", \"rice\", \"oil\", \"pasta\", \"yogurt\", \"milk\", \"coca cola\", \"ice cream\", \"tea\"\n",
    "        ],\n",
    "        \"Price\": [\n",
    "            990000, 3000000, 1500000, 1800000, 1000000, 470000, 300000, 200000, 2000000\n",
    "\n",
    "        ],\n",
    "        \"Date\": [\n",
    "            \"1404/5/3\", \"1404/6/10\", \"1404/6/10\", \"1404/5/14\", \"1404/5/3\", \"1404/5/3\", \"1404/5/14\", \"1404/6/10\", \"1404/5/10\"\n",
    "        ]\n",
    "    }\n",
    "\n",
    "    df = pd.DataFrame(data)\n",
    "    df.to_csv(\"Products.csv\", index=False)\n",
    "    print(\"File created sucessfully.\")\n",
    "\n",
    "def csvFile():\n",
    "    df = pd.read_csv(\"Products.csv\")\n",
    "    df.head(10)\n",
    "    print(f'Total sales: {df[\"Price\"].sum()} ريال')\n",
    "    print(f'Average sales: {df[\"Price\"].mean():.2f} ريال')\n",
    "    sale_by_day = df.groupby(\"Date\")[\"Price\"].sum()\n",
    "    print(f'Max sale in one day: {sale_by_day.max()} ريال in date {sale_by_day.idxmax()}')\n",
    "\n",
    "if __name__ == \"__main__\":\n",
    "    createCSV()\n",
    "    csvFile()"
   ]
  },
  {
   "cell_type": "markdown",
   "id": "97425590",
   "metadata": {},
   "source": [
    "<div dir='rtl'>\n",
    "سوال اختیاری دوم: لینک <a href=\"https://github.com/ElinaH83/Questions-for-interview\">GitHub</a>\n",
    "</div>"
   ]
  }
 ],
 "metadata": {
  "kernelspec": {
   "display_name": "Python 3",
   "language": "python",
   "name": "python3"
  },
  "language_info": {
   "codemirror_mode": {
    "name": "ipython",
    "version": 3
   },
   "file_extension": ".py",
   "mimetype": "text/x-python",
   "name": "python",
   "nbconvert_exporter": "python",
   "pygments_lexer": "ipython3",
   "version": "3.12.3"
  }
 },
 "nbformat": 4,
 "nbformat_minor": 5
}
